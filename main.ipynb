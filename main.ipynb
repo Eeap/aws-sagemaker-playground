{
 "cells": [
  {
   "cell_type": "code",
   "execution_count": null,
   "id": "2d5c25fe861a2cba",
   "metadata": {
    "jupyter": {
     "outputs_hidden": false
    }
   },
   "outputs": [],
   "source": [
    "import os\n",
    "!pip install sagemaker\n",
    "!pip install boto3\n",
    "!pip install matplotlib"
   ]
  },
  {
   "cell_type": "code",
   "execution_count": 27,
   "id": "initial_id",
   "metadata": {},
   "outputs": [],
   "source": [
    "import pandas as pd\n",
    "import numpy as np\n",
    "import matplotlib.pyplot as plt\n",
    "\n",
    "import boto3\n",
    "import botocore\n",
    "import sagemaker\n",
    "import sys\n",
    "from sagemaker import RandomCutForest\n",
    "# taxi_data = pd.read_csv('nyc_taxi.csv', delimiter=\",\")\n",
    "network_data = pd.read_csv('network_traffic.csv', delimiter=\",\")\n"
   ]
  },
  {
   "cell_type": "code",
   "execution_count": null,
   "id": "b1d2b977-bda4-4095-b38a-26a73ad4f876",
   "metadata": {},
   "outputs": [],
   "source": [
    "\n",
    "session = sagemaker.Session()\n",
    "\n",
    "# RCF 모델 생성\n",
    "rcf = RandomCutForest(\n",
    "    role=os.getenv(\"sagemaker_role\"),\n",
    "    instance_count=1,\n",
    "    instance_type=\"ml.m4.xlarge\",\n",
    "    data_location=f\"s3://{os.getenv('bucket_name')}/data/\",\n",
    "    output_path=f\"s3://{os.getenv('bucket_name')}/output\",\n",
    "    num_samples_per_tree=512,\n",
    "    num_trees=50,\n",
    ")\n",
    "\n",
    "# automatically upload the training data to S3 and run the training job\n",
    "rcf.fit(rcf.record_set(network_data.value.to_numpy().reshape(-1, 1)))"
   ]
  },
  {
   "cell_type": "code",
   "execution_count": null,
   "id": "3c444b68-216b-4044-8960-1a1a63a4eca6",
   "metadata": {},
   "outputs": [],
   "source": [
    "print(f\"Training job name: {rcf.latest_training_job.job_name}\")"
   ]
  },
  {
   "cell_type": "code",
   "execution_count": null,
   "id": "e90183fb-b7a8-4ab9-b246-64703319ecec",
   "metadata": {},
   "outputs": [],
   "source": [
    "# RCF 모델 배포\n",
    "rcf_inference = rcf.deploy(initial_instance_count=1, instance_type=\"ml.m4.xlarge\")"
   ]
  },
  {
   "cell_type": "code",
   "execution_count": null,
   "id": "f8266fcd2d3d20de",
   "metadata": {
    "jupyter": {
     "outputs_hidden": false
    }
   },
   "outputs": [],
   "source": [
    "print(f\"Endpoint name: {rcf_inference.endpoint}\")"
   ]
  },
  {
   "cell_type": "code",
   "execution_count": null,
   "id": "959feb0e84d2682",
   "metadata": {
    "jupyter": {
     "outputs_hidden": false
    }
   },
   "outputs": [],
   "source": [
    "from sagemaker.serializers import CSVSerializer\n",
    "from sagemaker.deserializers import JSONDeserializer\n",
    "\n",
    "rcf_inference.serializer = CSVSerializer()\n",
    "rcf_inference.deserializer = JSONDeserializer()\n",
    "\n",
    "inference_data = pd.read_csv('test.csv', delimiter=\",\")\n",
    "network_data_numpy = inference_data.value.to_numpy().reshape(-1, 1)\n",
    "print(network_data_numpy[:6])\n",
    "results = rcf_inference.predict(\n",
    "    network_data_numpy[:6], initial_args={\"ContentType\": \"text/csv\", \"Accept\": \"application/json\"}\n",
    ")"
   ]
  },
  {
   "cell_type": "code",
   "execution_count": null,
   "id": "7b099f90ab967402",
   "metadata": {
    "jupyter": {
     "outputs_hidden": false
    }
   },
   "outputs": [],
   "source": [
    "results = rcf_inference.predict(network_data_numpy)\n",
    "scores = [datum[\"score\"] for datum in results[\"scores\"]]\n",
    "\n",
    "inference_data[\"score\"] = pd.Series(scores, index=inference_data.index)\n",
    "inference_data.head()"
   ]
  },
  {
   "cell_type": "code",
   "execution_count": null,
   "id": "30a891e636d1e00f",
   "metadata": {
    "jupyter": {
     "outputs_hidden": false
    }
   },
   "outputs": [],
   "source": [
    "fig, ax1 = plt.subplots()\n",
    "ax2 = ax1.twinx()\n",
    "\n",
    "start, end = 0, len(inference_data)\n",
    "\n",
    "network_data_subset = inference_data[start:end]\n",
    "\n",
    "ax1.plot(network_data_subset[\"value\"], color=\"C0\", alpha=0.8)\n",
    "ax2.plot(network_data_subset[\"score\"], color=\"C1\")\n",
    "\n",
    "ax1.grid(which=\"major\", axis=\"both\")\n",
    "\n",
    "ax1.set_ylabel(\"Traffic Packets\", color=\"C0\")\n",
    "ax2.set_ylabel(\"Anomaly Score\", color=\"C1\")\n",
    "\n",
    "ax1.tick_params(\"y\", colors=\"C0\")\n",
    "ax2.tick_params(\"y\", colors=\"C1\")\n",
    "\n",
    "ax1.set_ylim(0, 200)\n",
    "ax2.set_ylim(min(scores), 1.4 * max(scores))\n",
    "fig.set_figwidth(10)"
   ]
  },
  {
   "cell_type": "code",
   "execution_count": null,
   "id": "f4872deb78134c4e",
   "metadata": {
    "jupyter": {
     "outputs_hidden": false
    }
   },
   "outputs": [],
   "source": [
    "score_mean = inference_data[\"score\"].mean()\n",
    "score_std = inference_data[\"score\"].std()\n",
    "score_cutoff = score_mean + 3 * score_std\n",
    "\n",
    "anomalies = network_data_subset[network_data_subset[\"score\"] > score_cutoff]\n",
    "anomalies"
   ]
  },
  {
   "cell_type": "code",
   "execution_count": null,
   "id": "990d85ea34be25be",
   "metadata": {
    "jupyter": {
     "outputs_hidden": false
    }
   },
   "outputs": [],
   "source": [
    "ax2.plot(anomalies.index, anomalies.score, \"ko\")\n",
    "fig"
   ]
  },
  {
   "cell_type": "code",
   "execution_count": null,
   "id": "3fae9fb24e6a4672",
   "metadata": {
    "jupyter": {
     "outputs_hidden": false
    }
   },
   "outputs": [],
   "source": [
    "sagemaker.Session().delete_endpoint(rcf_inference.endpoint)"
   ]
  }
 ],
 "metadata": {
  "kernelspec": {
   "display_name": "Python 3 (ipykernel)",
   "language": "python",
   "name": "python3"
  },
  "language_info": {
   "codemirror_mode": {
    "name": "ipython",
    "version": 3
   },
   "file_extension": ".py",
   "mimetype": "text/x-python",
   "name": "python",
   "nbconvert_exporter": "python",
   "pygments_lexer": "ipython3",
   "version": "3.9.12"
  }
 },
 "nbformat": 4,
 "nbformat_minor": 5
}
